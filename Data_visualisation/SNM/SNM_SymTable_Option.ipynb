{
 "cells": [
  {
   "cell_type": "markdown",
   "metadata": {},
   "source": [
    "# Visualises Symmetric Nuclear Matter (SNM) data"
   ]
  },
  {
   "cell_type": "code",
   "execution_count": 1,
   "metadata": {},
   "outputs": [],
   "source": [
    "import numpy as np # arrays etcetera\n",
    "import matplotlib.pyplot as plt # general plotting\n",
    "import matplotlib as mpl # for figure quality (dpi)\n",
    "import os # Dealing with paths"
   ]
  },
  {
   "cell_type": "code",
   "execution_count": 2,
   "metadata": {},
   "outputs": [],
   "source": [
    "# Figure quality\n",
    "mpl.rcParams['figure.dpi']= 100 # in notebook resolution\n",
    "mpl.rc(\"savefig\", dpi=400) # higher resolution when saving\n",
    "\n",
    "# Formatting options\n",
    "fs = 15 # fontsize"
   ]
  },
  {
   "cell_type": "code",
   "execution_count": 3,
   "metadata": {},
   "outputs": [],
   "source": [
    "# Path to project files (You may need to change this)\n",
    "currentDir = os.getcwd()\n",
    "#dataDir = os.path.join(currentDir, '../../../Data')\n",
    "dataDir = currentDir+'/../../Data'\n",
    "\n",
    "# Stored model variations\n",
    "# Baseline scenario \\Lambda = 900 MeV\n",
    "VARIATION = dataDir+\"/DLW/QMC/Bag_Mass_Param_Used/1_Standard/\"\n",
    "\n",
    "# Bag model param.  -> /Bag_Mass_Param_Used/1_Standard/\n",
    "#1_Standard\n",
    "#2_L1-0\n",
    "#3_L1-1\n",
    "#4_L1-2\n",
    "#5_L1-3\n",
    "#6_L1-1_gsy1-3\n",
    "#7_L1-3_gsy1-3\n",
    "#8_L2-0_gsy1-9\n",
    "#9_Increased_f_div_g\n",
    "#10_Fock_ds\n",
    "#11_Eff_Pro_Mass\n",
    "#12_Eff_Pro_Mass_L1-1\n",
    "#13_Eff_Pro_Mass_ds\n",
    "#14_Dirac_Only\n",
    "#15_Hartree\n",
    "#16_R0-8\n",
    "#17_App_S0_32-5\n",
    "#18_App_S0_30\n",
    "#19_S0_30\n",
    "#20_Standard_BETA_N_ONLY\n",
    "#21_MyQMC700 \n",
    "\n",
    "# Select the data you wish to visualise \n",
    "DATA_PATH = VARIATION+\"SNM/\"\n",
    "\n",
    "# Name of Model for plots (ENTER THE NAME YOU WANT HERE)\n",
    "MODEL = r\"A model\"\n",
    "\n",
    "# Path to other peoples data \n",
    "OTHERS_DATA= dataDir+\"/OTHERS/\"\n"
   ]
  },
  {
   "cell_type": "markdown",
   "metadata": {},
   "source": [
    "## Additional Data"
   ]
  },
  {
   "cell_type": "markdown",
   "metadata": {},
   "source": [
    "### Various constraints on $S$ Vs $L$"
   ]
  },
  {
   "cell_type": "code",
   "execution_count": 4,
   "metadata": {},
   "outputs": [
    {
     "name": "stdout",
     "output_type": "stream",
     "text": [
      "(4, 2)\n"
     ]
    }
   ],
   "source": [
    "FRDM = np.loadtxt(OTHERS_DATA+\"Betty_Tsang_SVsL/\"+\"FRDM.dat\")\n",
    "print(FRDM.shape)\n",
    "FRDM_list = list(FRDM) # cannot append to array, create a list\n",
    "FRDM_list.append(FRDM_list[0]) # repeat the first point to create a 'closed loop'\n",
    "x_FRDM, y_FRDM = zip(*FRDM_list) # create lists of x and y values"
   ]
  },
  {
   "cell_type": "code",
   "execution_count": 5,
   "metadata": {},
   "outputs": [
    {
     "name": "stdout",
     "output_type": "stream",
     "text": [
      "(2, 2)\n"
     ]
    }
   ],
   "source": [
    "HICBottom = np.loadtxt(OTHERS_DATA+\"Betty_Tsang_SVsL/\"+\"HICBottom.dat\")\n",
    "print(HICBottom.shape)"
   ]
  },
  {
   "cell_type": "code",
   "execution_count": 6,
   "metadata": {},
   "outputs": [
    {
     "name": "stdout",
     "output_type": "stream",
     "text": [
      "(2, 4)\n"
     ]
    }
   ],
   "source": [
    "HICCombined = np.loadtxt(OTHERS_DATA+\"Betty_Tsang_SVsL/\"+\"HICCombined.dat\")\n",
    "print(HICCombined.shape)"
   ]
  },
  {
   "cell_type": "code",
   "execution_count": 7,
   "metadata": {},
   "outputs": [
    {
     "name": "stdout",
     "output_type": "stream",
     "text": [
      "(2, 2)\n"
     ]
    }
   ],
   "source": [
    "HICTop = np.loadtxt(OTHERS_DATA+\"Betty_Tsang_SVsL/\"+\"HICTop.dat\")\n",
    "print(HICTop.shape)"
   ]
  },
  {
   "cell_type": "code",
   "execution_count": 8,
   "metadata": {},
   "outputs": [],
   "source": [
    "HIC = np.concatenate([HICBottom, HICTop[::-1]])"
   ]
  },
  {
   "cell_type": "code",
   "execution_count": 9,
   "metadata": {},
   "outputs": [],
   "source": [
    "HIC_list = list(HIC)\n",
    "HIC_list.append(HIC_list[0])\n",
    "x_HIC,y_HIC = zip(*HIC_list)"
   ]
  },
  {
   "cell_type": "code",
   "execution_count": 10,
   "metadata": {},
   "outputs": [
    {
     "name": "stdout",
     "output_type": "stream",
     "text": [
      "(5, 2)\n"
     ]
    }
   ],
   "source": [
    "IAS = np.loadtxt(OTHERS_DATA+\"Betty_Tsang_SVsL/\"+\"IAS.dat\")\n",
    "print(IAS.shape)"
   ]
  },
  {
   "cell_type": "code",
   "execution_count": 11,
   "metadata": {},
   "outputs": [],
   "source": [
    "IAS_list = list(IAS) # cannot append to array, create a list\n",
    "IAS_list.append(IAS_list[0]) # repeat the first point to create a 'closed loop'\n",
    "x_IAS, y_IAS = zip(*IAS_list) # create lists of x and y values"
   ]
  },
  {
   "cell_type": "code",
   "execution_count": 12,
   "metadata": {},
   "outputs": [
    {
     "name": "stdout",
     "output_type": "stream",
     "text": [
      "(4, 2)\n"
     ]
    }
   ],
   "source": [
    "PDR = np.loadtxt(OTHERS_DATA+\"Betty_Tsang_SVsL/\"+\"PDR.dat\")\n",
    "print(PDR.shape)"
   ]
  },
  {
   "cell_type": "code",
   "execution_count": 13,
   "metadata": {},
   "outputs": [],
   "source": [
    "PDR_list = list(PDR) # cannot append to array, create a list\n",
    "PDR_list.append(PDR_list[0]) # repeat the first point to create a 'closed loop'\n",
    "x_PDR, y_PDR = zip(*PDR_list) # create lists of x and y values"
   ]
  },
  {
   "cell_type": "code",
   "execution_count": 14,
   "metadata": {},
   "outputs": [],
   "source": [
    "# This data is in spreadsheet SVsL_data_2011 should put in a *.dat file and do as above. \n",
    "Pb= [[31.9,79.1], \n",
    "[31.9,54.9],\n",
    "[34.1,54.9],\n",
    "[34.1,79.1]]"
   ]
  },
  {
   "cell_type": "code",
   "execution_count": 15,
   "metadata": {},
   "outputs": [],
   "source": [
    "Pb_list = Pb\n",
    "Pb_list.append(Pb_list[0])\n",
    "x_Pb,y_Pb = zip(*Pb_list)"
   ]
  },
  {
   "cell_type": "markdown",
   "metadata": {},
   "source": [
    "## SymTable Option Data Files"
   ]
  },
  {
   "cell_type": "code",
   "execution_count": 16,
   "metadata": {},
   "outputs": [
    {
     "name": "stdout",
     "output_type": "stream",
     "text": [
      "(11, 9)\n"
     ]
    }
   ],
   "source": [
    "NUM = np.loadtxt(DATA_PATH+\"snm_num_sym_tab.dat\")\n",
    "print(NUM.shape)"
   ]
  },
  {
   "cell_type": "markdown",
   "metadata": {},
   "source": [
    "There is also another file which is the same as this one, but calculates the symmetry energy using the difference approximation."
   ]
  },
  {
   "cell_type": "code",
   "execution_count": 17,
   "metadata": {},
   "outputs": [
    {
     "data": {
      "image/png": "[encoded data removed]",
      "text/plain": [
       "<Figure size 600x400 with 1 Axes>"
      ]
     },
     "metadata": {
      "needs_background": "light"
     },
     "output_type": "display_data"
    }
   ],
   "source": [
    "fig1= plt.figure(figsize=(6,4))\n",
    "ax1 = fig1.add_subplot(111)\n",
    "\n",
    "#=============\n",
    "# Constraints:\n",
    "#=============\n",
    "# FRDM\n",
    "ax1.plot(x_FRDM,y_FRDM,'g--',label='FRDM')\n",
    "# HIC \n",
    "ax1.fill(x_HIC,y_HIC,'k--',label='HIC',alpha=0.15)\n",
    "# IAS\n",
    "ax1.plot(x_IAS,y_IAS,'b--',label='IAS')\n",
    "# PDR\n",
    "ax1.plot(x_PDR,y_PDR,'r--',label='PDR')\n",
    "# Pb\n",
    "ax1.plot(x_Pb,y_Pb,'m--',label='Pb(p,p)')\n",
    "\n",
    "# Limits\n",
    "ax1.set_xlim(30,35)\n",
    "ax1.set_ylim(0,120)\n",
    "\n",
    "# Labels\n",
    "ax1.set_xlabel(r\"Symmetry Energy $S$ [MeV]\",fontsize=fs)\n",
    "ax1.set_ylabel(r\"Slope $L$ [MeV]\",fontsize=fs)\n",
    "\n",
    "# Legend\n",
    "ax1.legend(frameon=False, loc=\"best\",fontsize=fs-5)\n",
    "\n",
    "#=======\n",
    "# MODEL:\n",
    "#=======\n",
    "ax1.plot(NUM[:,0],NUM[:,1],'m-', linewidth=2,label=MODEL)\n",
    "\n",
    "# Legend\n",
    "plt.legend(frameon=False, loc=3,\n",
    "           ncol=3, mode=\"expand\", borderaxespad=0.8)\n",
    "\n",
    "# Save it\n",
    "fig1.savefig(\"symtab_test1.pdf\")"
   ]
  },
  {
   "cell_type": "code",
   "execution_count": null,
   "metadata": {},
   "outputs": [],
   "source": []
  },
  {
   "cell_type": "code",
   "execution_count": null,
   "metadata": {},
   "outputs": [],
   "source": []
  }
 ],
 "metadata": {
  "kernelspec": {
   "display_name": "Python 3",
   "language": "python",
   "name": "python3"
  },
  "language_info": {
   "codemirror_mode": {
    "name": "ipython",
    "version": 3
   },
   "file_extension": ".py",
   "mimetype": "text/x-python",
   "name": "python",
   "nbconvert_exporter": "python",
   "pygments_lexer": "ipython3",
   "version": "3.7.5"
  }
 },
 "nbformat": 4,
 "nbformat_minor": 2
}
