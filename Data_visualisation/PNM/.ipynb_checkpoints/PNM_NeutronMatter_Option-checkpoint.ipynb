{
 "cells": [
  {
   "cell_type": "markdown",
   "metadata": {},
   "source": [
    "# Visualises Pure Neutron Matter (PNM) data"
   ]
  },
  {
   "cell_type": "code",
   "execution_count": 1,
   "metadata": {},
   "outputs": [],
   "source": [
    "import numpy as np # arrays etcetera\n",
    "import matplotlib.pyplot as plt # general plotting\n",
    "import matplotlib as mpl # for figure quality (dpi)\n",
    "import os # Dealing with paths"
   ]
  },
  {
   "cell_type": "code",
   "execution_count": 2,
   "metadata": {},
   "outputs": [],
   "source": [
    "# Figure quality\n",
    "mpl.rcParams['figure.dpi']= 100 # in notebook resolution\n",
    "mpl.rc(\"savefig\", dpi=400) # higher resolution when saving\n",
    "\n",
    "# Formatting options\n",
    "fs = 15 # fontsize"
   ]
  },
  {
   "cell_type": "markdown",
   "metadata": {},
   "source": [
    "File paths"
   ]
  },
  {
   "cell_type": "code",
   "execution_count": 5,
   "metadata": {},
   "outputs": [],
   "source": [
    "# Path to project files (You may need to change this)\n",
    "currentDir = os.getcwd()\n",
    "#dataDir = os.path.join(currentDir, '../../../Data')\n",
    "dataDir = currentDir+'/../../Data'\n",
    "\n",
    "# Stored model variations\n",
    "# Baseline scenario \\Lambda = 900 MeV\n",
    "VARIATION = dataDir+\"/DLW/QMC/Bag_Mass_Param_Used/1_Standard/\"\n",
    "\n",
    "# Bag model param.  -> /Bag_Mass_Param_Used/1_Standard/\n",
    "#1_Standard\n",
    "#2_L1-0\n",
    "#3_L1-1\n",
    "#4_L1-2\n",
    "#5_L1-3\n",
    "#6_L1-1_gsy1-3\n",
    "#7_L1-3_gsy1-3\n",
    "#8_L2-0_gsy1-9\n",
    "#9_Increased_f_div_g\n",
    "#10_Fock_ds\n",
    "#11_Eff_Pro_Mass\n",
    "#12_Eff_Pro_Mass_L1-1\n",
    "#13_Eff_Pro_Mass_ds\n",
    "#14_Dirac_Only\n",
    "#15_Hartree\n",
    "#16_R0-8\n",
    "#17_App_S0_32-5\n",
    "#18_App_S0_30\n",
    "#19_S0_30\n",
    "#20_Standard_BETA_N_ONLY\n",
    "#21_MyQMC700 \n",
    "\n",
    "\n",
    "# NJL model param. -> /NJL_Mass_Param_Used/1_NJL_Hartree/\n",
    "\n",
    "#1_NJL_Hartree\n",
    "#2_NJL_Standard\n",
    "#3_NJL_L1-3\n",
    "#4_NJL_Dirac_Only\n",
    "#5_NJL_Fs1\n",
    "\n",
    "# Select the data you wish to visualise \n",
    "DATA_PATH = VARIATION+\"PNM/\"\n",
    "\n",
    "# Name of Model for plots (ENTER THE NAME YOU WANT HERE)\n",
    "MODEL = r\"A model\"\n",
    "\n",
    "# Path to other peoples data \n",
    "OTHERS_DATA= dataDir+\"/OTHERS/\""
   ]
  },
  {
   "cell_type": "markdown",
   "metadata": {},
   "source": [
    "## NeutronMatter Option Data Files"
   ]
  },
  {
   "cell_type": "markdown",
   "metadata": {},
   "source": [
    "This file contains 7 columns: \n",
    "\n",
    "Density [fm$^{-3}$], pressure [MeVfm$^{-3}$], energy density [MeVfm$^{-3}$], binding energy per particle [MeV], ratio of total density/saturation density, eff. neutron mass [MeV], ratio of eff. neutron mass/ free neutron mass."
   ]
  },
  {
   "cell_type": "code",
   "execution_count": 6,
   "metadata": {},
   "outputs": [
    {
     "name": "stdout",
     "output_type": "stream",
     "text": [
      "(315, 8)\n"
     ]
    }
   ],
   "source": [
    "data = np.loadtxt(DATA_PATH+\"pnm_eos.dat\")\n",
    "print(data.shape)"
   ]
  },
  {
   "cell_type": "markdown",
   "metadata": {},
   "source": [
    "## Energy per particle versus density"
   ]
  },
  {
   "cell_type": "markdown",
   "metadata": {},
   "source": [
    "### Additional Data"
   ]
  },
  {
   "cell_type": "markdown",
   "metadata": {},
   "source": [
    "#### N3LO CEFT, PRL 110, 032504 (2013) from K. Hebeler via J. Stone"
   ]
  },
  {
   "cell_type": "markdown",
   "metadata": {},
   "source": [
    "Data from K. Hebeler via Jirina Stone. The reference for this data is PRL, 110, 032504 (2013), Neutron Matter at Next-to-Next-to-Next-to-Leading Order in Chiral Effective Field Theory by Tews et al. There are 2 columns for the following files:\n",
    "\n",
    "Density [fm$^{-3}$] and energy per particle [MeV]."
   ]
  },
  {
   "cell_type": "code",
   "execution_count": 7,
   "metadata": {},
   "outputs": [
    {
     "name": "stdout",
     "output_type": "stream",
     "text": [
      "(22, 2)\n"
     ]
    }
   ],
   "source": [
    "EGM450_500_lower = np.loadtxt(OTHERS_DATA+\"Kai_Hebeler_N3LO_CEFT_PNM/\"+\"EGM450_500_lower.dat\")\n",
    "\n",
    "print(EGM450_500_lower.shape)"
   ]
  },
  {
   "cell_type": "code",
   "execution_count": 8,
   "metadata": {},
   "outputs": [
    {
     "name": "stdout",
     "output_type": "stream",
     "text": [
      "(22, 2)\n"
     ]
    }
   ],
   "source": [
    "EGM450_500_upper = np.loadtxt(OTHERS_DATA+\"Kai_Hebeler_N3LO_CEFT_PNM/\"+\"EGM450_500_upper.dat\")\n",
    "print(EGM450_500_upper.shape)"
   ]
  },
  {
   "cell_type": "code",
   "execution_count": 9,
   "metadata": {},
   "outputs": [],
   "source": [
    "EGM450_500 = np.concatenate([EGM450_500_lower,EGM450_500_upper[::-1]])"
   ]
  },
  {
   "cell_type": "code",
   "execution_count": 10,
   "metadata": {},
   "outputs": [
    {
     "name": "stdout",
     "output_type": "stream",
     "text": [
      "(22, 2)\n"
     ]
    }
   ],
   "source": [
    "EGM450_700_lower = np.loadtxt(OTHERS_DATA+\"Kai_Hebeler_N3LO_CEFT_PNM/\"+\"EGM450_700_lower.dat\")\n",
    "print(EGM450_700_lower.shape)"
   ]
  },
  {
   "cell_type": "code",
   "execution_count": 11,
   "metadata": {},
   "outputs": [
    {
     "name": "stdout",
     "output_type": "stream",
     "text": [
      "(22, 2)\n"
     ]
    }
   ],
   "source": [
    "EGM450_700_upper = np.loadtxt(OTHERS_DATA+\"Kai_Hebeler_N3LO_CEFT_PNM/\"+\"EGM450_700_upper.dat\")\n",
    "print(EGM450_700_upper.shape)"
   ]
  },
  {
   "cell_type": "code",
   "execution_count": 12,
   "metadata": {},
   "outputs": [],
   "source": [
    "EGM450_700 = np.concatenate([EGM450_700_lower,EGM450_700_upper[::-1]])"
   ]
  },
  {
   "cell_type": "code",
   "execution_count": 13,
   "metadata": {},
   "outputs": [
    {
     "name": "stdout",
     "output_type": "stream",
     "text": [
      "(22, 2)\n"
     ]
    }
   ],
   "source": [
    "EM500_lower = np.loadtxt(OTHERS_DATA+\"Kai_Hebeler_N3LO_CEFT_PNM/\"+\"EM500_lower.dat\")\n",
    "print(EM500_lower.shape)"
   ]
  },
  {
   "cell_type": "code",
   "execution_count": 14,
   "metadata": {},
   "outputs": [
    {
     "name": "stdout",
     "output_type": "stream",
     "text": [
      "(22, 2)\n"
     ]
    }
   ],
   "source": [
    "EM500_upper = np.loadtxt(OTHERS_DATA+\"Kai_Hebeler_N3LO_CEFT_PNM/\"+\"EM500_upper.dat\")\n",
    "print(EM500_upper.shape)"
   ]
  },
  {
   "cell_type": "code",
   "execution_count": 15,
   "metadata": {},
   "outputs": [],
   "source": [
    "EM500 = np.concatenate([EM500_lower,EM500_upper[::-1]])"
   ]
  },
  {
   "cell_type": "code",
   "execution_count": 16,
   "metadata": {},
   "outputs": [
    {
     "data": {
      "image/png": "[encoded data removed]",
      "text/plain": [
       "<Figure size 600x400 with 1 Axes>"
      ]
     },
     "metadata": {
      "needs_background": "light"
     },
     "output_type": "display_data"
    }
   ],
   "source": [
    "fig1 = plt.figure(figsize=(6,4))\n",
    "ax1 = fig1.add_subplot(111)\n",
    "\n",
    "# N3LO CEFT, PRL 110, 032504 (2013) from K. Hebeler via J. Stone\n",
    "ax1.fill(EGM450_500[:,0],EGM450_500[:,1],'r',alpha=0.15,label=r\"EGM450/500 MeV\")\n",
    "ax1.fill(EGM450_700[:,0],EGM450_700[:,1],'b',alpha=0.15,label=r\"EGM450/700 MeV\")\n",
    "ax1.fill(EM500[:,0],EM500[:,1],'g',alpha=0.15,label=r\"EM500 MeV\")\n",
    "\n",
    "# MODEL\n",
    "ax1.plot(data[:,0],data[:,3],'m--',label=MODEL)\n",
    "\n",
    "# Limits\n",
    "ax1.set_xlim(0,0.23)\n",
    "ax1.set_ylim(0,35)\n",
    "\n",
    "# Labels\n",
    "ax1.set_xlabel(r'Density $\\rho$ [fm$^{-3}$]',fontsize=fs)\n",
    "ax1.set_ylabel('Energy per particle [MeV]',fontsize=fs)\n",
    "\n",
    "# Legend\n",
    "ax1.legend(frameon=False, loc=\"upper left\",fontsize=fs-5)\n",
    "\n",
    "# Save it\n",
    "plt.savefig(\"pnm_test1.pdf\")"
   ]
  },
  {
   "cell_type": "markdown",
   "metadata": {},
   "source": [
    "## Pressure versus density comparison with/without three-body forces"
   ]
  },
  {
   "cell_type": "markdown",
   "metadata": {},
   "source": [
    "This figure is similar to the one in Betty Tsang's paper, PRC 86, 015803 (2012)."
   ]
  },
  {
   "cell_type": "markdown",
   "metadata": {},
   "source": [
    "### Additional Data"
   ]
  },
  {
   "cell_type": "markdown",
   "metadata": {},
   "source": [
    "#### N3LO CEFT, PRL 110, 032504 (2013) from K. Hebeler via J. Stone"
   ]
  },
  {
   "cell_type": "markdown",
   "metadata": {},
   "source": [
    "Data from K. Hebeler via Jirina Stone. The reference for this data is PRL, 110, 032504 (2013), Neutron Matter at Next-to-Next-to-Next-to-Leading Order in Chiral Effective Field Theory by Tews et al. Kai Hebeler: \"The first column contains the neutron number density in [fm$^{-3}$], the second column the binding energy per neutron in [MeV], and the last column the pressure in [MeVfm$^{-3}$].\""
   ]
  },
  {
   "cell_type": "code",
   "execution_count": 17,
   "metadata": {},
   "outputs": [
    {
     "name": "stdout",
     "output_type": "stream",
     "text": [
      "(23, 3)\n"
     ]
    }
   ],
   "source": [
    "EOS_no3NF = np.loadtxt(OTHERS_DATA+\"Kai_Hebeler_N3LO_CEFT_PNM/\"+\"EOS_no3NF.dat\")\n",
    "print(EOS_no3NF.shape)"
   ]
  },
  {
   "cell_type": "code",
   "execution_count": 18,
   "metadata": {},
   "outputs": [
    {
     "name": "stdout",
     "output_type": "stream",
     "text": [
      "(23, 3)\n"
     ]
    }
   ],
   "source": [
    "EOS_with3NF_lower = np.loadtxt(OTHERS_DATA+\"Kai_Hebeler_N3LO_CEFT_PNM/\"+\"EOS_with3NF_lower.dat\")\n",
    "print(EOS_with3NF_lower.shape)"
   ]
  },
  {
   "cell_type": "code",
   "execution_count": 19,
   "metadata": {},
   "outputs": [
    {
     "name": "stdout",
     "output_type": "stream",
     "text": [
      "(23, 3)\n"
     ]
    }
   ],
   "source": [
    "EOS_with3NF_upper = np.loadtxt(OTHERS_DATA+\"Kai_Hebeler_N3LO_CEFT_PNM/\"+\"EOS_with3NF_upper.dat\")\n",
    "print(EOS_with3NF_upper.shape)"
   ]
  },
  {
   "cell_type": "code",
   "execution_count": 20,
   "metadata": {},
   "outputs": [],
   "source": [
    "EOS_with3NF_combined = np.concatenate([EOS_with3NF_lower,EOS_with3NF_upper[::-1]])\n",
    "EOS_with3NF_combined;"
   ]
  },
  {
   "cell_type": "markdown",
   "metadata": {},
   "source": [
    "#### BHF using Av18 (nn) and Av18 + UIX (nnn) from Isaac Vidana via J. Stone"
   ]
  },
  {
   "cell_type": "markdown",
   "metadata": {},
   "source": [
    "There are 3 columns:\n",
    "\n",
    "Density [$\\rho / \\rho_{0}$], pressure $P$ (only NN) [$10^{27}$ bar] and then pressure $P$ (NN+NNN) [$10^{27}$ bar].\n",
    "\n",
    "NOTE: The original file was pressure.dat, but I use the modified pressure-alt.dat instead because there were issues in reading the original format. The format is the only thing changed between these files."
   ]
  },
  {
   "cell_type": "code",
   "execution_count": 21,
   "metadata": {},
   "outputs": [
    {
     "name": "stdout",
     "output_type": "stream",
     "text": [
      "(11, 3)\n"
     ]
    }
   ],
   "source": [
    "BHF = np.loadtxt(OTHERS_DATA+\"Isaac_Vidana_BHF_PNM_Av18_nn_and_Av18_UIX_nnn /\"+\"pressure-alt.dat\")\n",
    "print(BHF.shape)"
   ]
  },
  {
   "cell_type": "markdown",
   "metadata": {},
   "source": [
    "#### Quantum Monte Carlo (QuMoCa) from J. Stone "
   ]
  },
  {
   "cell_type": "markdown",
   "metadata": {},
   "source": [
    "These files have Quanutm Monte Carlo calculations with and without three body forces included. The file without three body forces is p_no3b.dat has 3 columns:\n",
    "\n",
    "Density $\\rho$ [fm$^{-3}$], Density ratio $\\rho / \\rho_{0}$ and Pressure [bar].\n",
    "\n",
    "The second file is p_uix.dat and has the same format."
   ]
  },
  {
   "cell_type": "code",
   "execution_count": 22,
   "metadata": {},
   "outputs": [
    {
     "name": "stdout",
     "output_type": "stream",
     "text": [
      "(17, 3)\n"
     ]
    }
   ],
   "source": [
    "QuMoCa = np.loadtxt(OTHERS_DATA+\"QuMoCa_w_wo_3BF/\"+\"p_no3b.dat\")\n",
    "print(QuMoCa.shape)"
   ]
  },
  {
   "cell_type": "code",
   "execution_count": 23,
   "metadata": {},
   "outputs": [
    {
     "name": "stdout",
     "output_type": "stream",
     "text": [
      "(17, 3)\n"
     ]
    }
   ],
   "source": [
    "QuMoCaUIX = np.loadtxt(OTHERS_DATA+\"QuMoCa_w_wo_3BF/\"+\"p_uix.dat\")\n",
    "print(QuMoCaUIX.shape)"
   ]
  },
  {
   "cell_type": "markdown",
   "metadata": {},
   "source": [
    "#### DBHF from Francesca Sammarruca via J. Stone"
   ]
  },
  {
   "cell_type": "markdown",
   "metadata": {},
   "source": [
    "The DBHF data file is logprnm-low_density.txt. It is in a slightly awkward format, so we need to read it in differently. It has two colums with headings and some spaces. Columns are:\n",
    "\n",
    "Density [fm$^{-3}$], $\\log(P)$ where $P$ is the pressure in [MeVfm$^{-3}$]."
   ]
  },
  {
   "cell_type": "code",
   "execution_count": 24,
   "metadata": {},
   "outputs": [],
   "source": [
    "fname = OTHERS_DATA+\"Francesca_Sammarruca_DBHF_PNM/\"+\"logprnm-low_density.txt\"\n",
    "f = open(fname,'r')\n",
    "lines = f.readlines()[4:-3] \n",
    "f.close()"
   ]
  },
  {
   "cell_type": "code",
   "execution_count": 25,
   "metadata": {},
   "outputs": [],
   "source": [
    "DBHF = np.array([x.strip().split() for x in lines if x != '\\n'],float)"
   ]
  },
  {
   "cell_type": "code",
   "execution_count": 26,
   "metadata": {},
   "outputs": [
    {
     "data": {
      "image/png": "[encoded data removed]",
      "text/plain": [
       "<Figure size 700x600 with 2 Axes>"
      ]
     },
     "metadata": {
      "needs_background": "light"
     },
     "output_type": "display_data"
    }
   ],
   "source": [
    "# Conversion factor to convert from [MeVfm^{-3}] to [10^{27} bar]\n",
    "conversionFactor = 1.6022 # see Glendenning (p70-73) and Giancolli (p281)\n",
    "\n",
    "# Saturation density\n",
    "rho0 = 0.16\n",
    "\n",
    "fig1 = plt.figure(figsize=(7,6))\n",
    "\n",
    "#*********** NO THREE-BODY FORCES ********* \n",
    "\n",
    "ax1 = fig1.add_subplot(121)\n",
    "\n",
    "#==========================\n",
    "# Various data from Jirina\n",
    "#==========================\n",
    "\n",
    "# N3LO CEFT, PRL 110, 032504 (2013) from K. Hebeler via J. Stone\n",
    "ax1.plot(EOS_no3NF[:,0]/rho0,EOS_no3NF[:,2]*conversionFactor,'b',label=r\"N$^{3}$LO CEFT\")\n",
    "\n",
    "# BHF using Av18 (nn) and Av18 + UIX (nnn) from Isaac Vidana via J. Stone\n",
    "ax1.plot(BHF[:,0],BHF[:,1],'g--',label=r\"BHF\")\n",
    "\n",
    "# Quantum Monte Carlo (QuMoCa) from J. Stone\n",
    "ax1.plot(QuMoCa[:,1],QuMoCa[:,2]/(10**27),'k--',label=r\"QuMoCa\")\n",
    "\n",
    "# Limits\n",
    "ax1.set_xlim(0,1)\n",
    "ax1.set_ylim(0,5.4)\n",
    "\n",
    "# Labels\n",
    "ax1.set_xlabel(r\"Density [$\\rho / \\rho_{0}$]\",fontsize=fs)\n",
    "ax1.set_ylabel(r\"Pressure $P$ [$10^{27}$ bar]\",fontsize=fs)\n",
    "\n",
    "# Legend\n",
    "ax1.legend(frameon=False, loc=\"upper left\",fontsize=fs-5)\n",
    "\n",
    "\n",
    "#*********** WITH THREE-BODY FORCES ********* \n",
    "\n",
    "ax2 = fig1.add_subplot(122)\n",
    "\n",
    "#==========================\n",
    "# Various data from Jirina\n",
    "#==========================\n",
    "\n",
    "\n",
    "# N3LO CEFT, PRL 110, 032504 (2013) from K. Hebeler via J. Stone\n",
    "ax2.fill(EOS_with3NF_combined[:,0]/rho0,EOS_with3NF_combined[:,2]*conversionFactor,'b',alpha=0.15,label=r\"N$^{3}$LO CEFT\")\n",
    "\n",
    "# BHF using Av18 (nn) and Av18 + UIX (nnn) from Isaac Vidana via J. Stone\n",
    "ax2.plot(BHF[:,0],BHF[:,2],'g--',label=r\"BHF\")\n",
    "\n",
    "# Quantum Monte Carlo (QuMoCa) from J. Stone\n",
    "ax2.plot(QuMoCaUIX[:,1],QuMoCaUIX[:,2]/(10**27),'k--',label=r\"QuMoCa\")\n",
    "\n",
    "# DBHF from Francesca Sammarruca via J. Stone\n",
    "ax2.plot(DBHF[:,0]/rho0,10**(DBHF[:,1])*conversionFactor,'m--',label=r\"DBHF\")\n",
    "\n",
    "\n",
    "#=======\n",
    "# MODEL\n",
    "#=======\n",
    "\n",
    "# MODEL\n",
    "ax2.plot(data[:,0]/rho0,data[:,1]*conversionFactor,'r-',label=MODEL)\n",
    "\n",
    "# Limits\n",
    "ax2.set_xlim(0,1)\n",
    "ax2.set_ylim(0,5.4)\n",
    "\n",
    "# Labels\n",
    "ax2.set_xlabel(r\"Density [$\\rho / \\rho_{0}$]\",fontsize=fs)\n",
    "\n",
    "# Legend\n",
    "ax2.legend(frameon=False, loc=\"upper left\",fontsize=fs-5)\n",
    "\n",
    "# Save it\n",
    "plt.savefig(\"pnm_test2.pdf\")"
   ]
  },
  {
   "cell_type": "code",
   "execution_count": null,
   "metadata": {},
   "outputs": [],
   "source": []
  },
  {
   "cell_type": "code",
   "execution_count": null,
   "metadata": {},
   "outputs": [],
   "source": []
  },
  {
   "cell_type": "code",
   "execution_count": null,
   "metadata": {},
   "outputs": [],
   "source": []
  },
  {
   "cell_type": "code",
   "execution_count": null,
   "metadata": {},
   "outputs": [],
   "source": []
  },
  {
   "cell_type": "code",
   "execution_count": null,
   "metadata": {},
   "outputs": [],
   "source": []
  },
  {
   "cell_type": "code",
   "execution_count": null,
   "metadata": {},
   "outputs": [],
   "source": []
  }
 ],
 "metadata": {
  "kernelspec": {
   "display_name": "Python 3",
   "language": "python",
   "name": "python3"
  },
  "language_info": {
   "codemirror_mode": {
    "name": "ipython",
    "version": 3
   },
   "file_extension": ".py",
   "mimetype": "text/x-python",
   "name": "python",
   "nbconvert_exporter": "python",
   "pygments_lexer": "ipython3",
   "version": "3.7.5"
  }
 },
 "nbformat": 4,
 "nbformat_minor": 2
}
